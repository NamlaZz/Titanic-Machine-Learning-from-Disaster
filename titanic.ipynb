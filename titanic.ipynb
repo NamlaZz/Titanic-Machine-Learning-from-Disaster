{
 "cells": [
  {
   "cell_type": "code",
   "execution_count": 1,
   "metadata": {
    "_cell_guid": "b1076dfc-b9ad-4769-8c92-a6c4dae69d19",
    "_uuid": "8f2839f25d086af736a60e9eeb907d3b93b6e0e5",
    "execution": {
     "iopub.execute_input": "2020-09-10T03:14:16.971979Z",
     "iopub.status.busy": "2020-09-10T03:14:16.971338Z",
     "iopub.status.idle": "2020-09-10T03:14:16.979730Z",
     "shell.execute_reply": "2020-09-10T03:14:16.979133Z"
    },
    "papermill": {
     "duration": 0.033082,
     "end_time": "2020-09-10T03:14:16.979837",
     "exception": false,
     "start_time": "2020-09-10T03:14:16.946755",
     "status": "completed"
    },
    "tags": []
   },
   "outputs": [
    {
     "name": "stdout",
     "output_type": "stream",
     "text": [
      "/kaggle/input/titanic/gender_submission.csv\n",
      "/kaggle/input/titanic/test.csv\n",
      "/kaggle/input/titanic/train.csv\n"
     ]
    }
   ],
   "source": [
    "# This Python 3 environment comes with many helpful analytics libraries installed\n",
    "# It is defined by the kaggle/python Docker image: https://github.com/kaggle/docker-python\n",
    "# For example, here's several helpful packages to load\n",
    "\n",
    "import numpy as np # linear algebra\n",
    "import pandas as pd # data processing, CSV file I/O (e.g. pd.read_csv)\n",
    "\n",
    "# Input data files are available in the read-only \"../input/\" directory\n",
    "# For example, running this (by clicking run or pressing Shift+Enter) will list all files under the input directory\n",
    "\n",
    "import os\n",
    "for dirname, _, filenames in os.walk('/kaggle/input'):\n",
    "    for filename in filenames:\n",
    "        print(os.path.join(dirname, filename))\n",
    "\n",
    "# You can write up to 5GB to the current directory (/kaggle/working/) that gets preserved as output when you create a version using \"Save & Run All\" \n",
    "# You can also write temporary files to /kaggle/temp/, but they won't be saved outside of the current session"
   ]
  },
  {
   "cell_type": "code",
   "execution_count": 2,
   "metadata": {
    "_cell_guid": "79c7e3d0-c299-4dcb-8224-4455121ee9b0",
    "_uuid": "d629ff2d2480ee46fbb7e2d37f6b5fab8052498a",
    "execution": {
     "iopub.execute_input": "2020-09-10T03:14:17.030108Z",
     "iopub.status.busy": "2020-09-10T03:14:17.029215Z",
     "iopub.status.idle": "2020-09-10T03:14:17.062828Z",
     "shell.execute_reply": "2020-09-10T03:14:17.062190Z"
    },
    "papermill": {
     "duration": 0.061402,
     "end_time": "2020-09-10T03:14:17.062932",
     "exception": false,
     "start_time": "2020-09-10T03:14:17.001530",
     "status": "completed"
    },
    "tags": []
   },
   "outputs": [
    {
     "data": {
      "text/html": [
       "<div>\n",
       "<style scoped>\n",
       "    .dataframe tbody tr th:only-of-type {\n",
       "        vertical-align: middle;\n",
       "    }\n",
       "\n",
       "    .dataframe tbody tr th {\n",
       "        vertical-align: top;\n",
       "    }\n",
       "\n",
       "    .dataframe thead th {\n",
       "        text-align: right;\n",
       "    }\n",
       "</style>\n",
       "<table border=\"1\" class=\"dataframe\">\n",
       "  <thead>\n",
       "    <tr style=\"text-align: right;\">\n",
       "      <th></th>\n",
       "      <th>PassengerId</th>\n",
       "      <th>Survived</th>\n",
       "      <th>Pclass</th>\n",
       "      <th>Name</th>\n",
       "      <th>Sex</th>\n",
       "      <th>Age</th>\n",
       "      <th>SibSp</th>\n",
       "      <th>Parch</th>\n",
       "      <th>Ticket</th>\n",
       "      <th>Fare</th>\n",
       "      <th>Cabin</th>\n",
       "      <th>Embarked</th>\n",
       "    </tr>\n",
       "  </thead>\n",
       "  <tbody>\n",
       "    <tr>\n",
       "      <th>0</th>\n",
       "      <td>1</td>\n",
       "      <td>0</td>\n",
       "      <td>3</td>\n",
       "      <td>Braund, Mr. Owen Harris</td>\n",
       "      <td>male</td>\n",
       "      <td>22.0</td>\n",
       "      <td>1</td>\n",
       "      <td>0</td>\n",
       "      <td>A/5 21171</td>\n",
       "      <td>7.2500</td>\n",
       "      <td>NaN</td>\n",
       "      <td>S</td>\n",
       "    </tr>\n",
       "    <tr>\n",
       "      <th>1</th>\n",
       "      <td>2</td>\n",
       "      <td>1</td>\n",
       "      <td>1</td>\n",
       "      <td>Cumings, Mrs. John Bradley (Florence Briggs Th...</td>\n",
       "      <td>female</td>\n",
       "      <td>38.0</td>\n",
       "      <td>1</td>\n",
       "      <td>0</td>\n",
       "      <td>PC 17599</td>\n",
       "      <td>71.2833</td>\n",
       "      <td>C85</td>\n",
       "      <td>C</td>\n",
       "    </tr>\n",
       "    <tr>\n",
       "      <th>2</th>\n",
       "      <td>3</td>\n",
       "      <td>1</td>\n",
       "      <td>3</td>\n",
       "      <td>Heikkinen, Miss. Laina</td>\n",
       "      <td>female</td>\n",
       "      <td>26.0</td>\n",
       "      <td>0</td>\n",
       "      <td>0</td>\n",
       "      <td>STON/O2. 3101282</td>\n",
       "      <td>7.9250</td>\n",
       "      <td>NaN</td>\n",
       "      <td>S</td>\n",
       "    </tr>\n",
       "    <tr>\n",
       "      <th>3</th>\n",
       "      <td>4</td>\n",
       "      <td>1</td>\n",
       "      <td>1</td>\n",
       "      <td>Futrelle, Mrs. Jacques Heath (Lily May Peel)</td>\n",
       "      <td>female</td>\n",
       "      <td>35.0</td>\n",
       "      <td>1</td>\n",
       "      <td>0</td>\n",
       "      <td>113803</td>\n",
       "      <td>53.1000</td>\n",
       "      <td>C123</td>\n",
       "      <td>S</td>\n",
       "    </tr>\n",
       "    <tr>\n",
       "      <th>4</th>\n",
       "      <td>5</td>\n",
       "      <td>0</td>\n",
       "      <td>3</td>\n",
       "      <td>Allen, Mr. William Henry</td>\n",
       "      <td>male</td>\n",
       "      <td>35.0</td>\n",
       "      <td>0</td>\n",
       "      <td>0</td>\n",
       "      <td>373450</td>\n",
       "      <td>8.0500</td>\n",
       "      <td>NaN</td>\n",
       "      <td>S</td>\n",
       "    </tr>\n",
       "  </tbody>\n",
       "</table>\n",
       "</div>"
      ],
      "text/plain": [
       "   PassengerId  Survived  Pclass  \\\n",
       "0            1         0       3   \n",
       "1            2         1       1   \n",
       "2            3         1       3   \n",
       "3            4         1       1   \n",
       "4            5         0       3   \n",
       "\n",
       "                                                Name     Sex   Age  SibSp  \\\n",
       "0                            Braund, Mr. Owen Harris    male  22.0      1   \n",
       "1  Cumings, Mrs. John Bradley (Florence Briggs Th...  female  38.0      1   \n",
       "2                             Heikkinen, Miss. Laina  female  26.0      0   \n",
       "3       Futrelle, Mrs. Jacques Heath (Lily May Peel)  female  35.0      1   \n",
       "4                           Allen, Mr. William Henry    male  35.0      0   \n",
       "\n",
       "   Parch            Ticket     Fare Cabin Embarked  \n",
       "0      0         A/5 21171   7.2500   NaN        S  \n",
       "1      0          PC 17599  71.2833   C85        C  \n",
       "2      0  STON/O2. 3101282   7.9250   NaN        S  \n",
       "3      0            113803  53.1000  C123        S  \n",
       "4      0            373450   8.0500   NaN        S  "
      ]
     },
     "execution_count": 2,
     "metadata": {},
     "output_type": "execute_result"
    }
   ],
   "source": [
    "train_data = pd.read_csv(\"/kaggle/input/titanic/train.csv\")\n",
    "train_data.head()"
   ]
  },
  {
   "cell_type": "code",
   "execution_count": 3,
   "metadata": {
    "execution": {
     "iopub.execute_input": "2020-09-10T03:14:17.111555Z",
     "iopub.status.busy": "2020-09-10T03:14:17.110881Z",
     "iopub.status.idle": "2020-09-10T03:14:17.130823Z",
     "shell.execute_reply": "2020-09-10T03:14:17.130165Z"
    },
    "papermill": {
     "duration": 0.046615,
     "end_time": "2020-09-10T03:14:17.130958",
     "exception": false,
     "start_time": "2020-09-10T03:14:17.084343",
     "status": "completed"
    },
    "tags": []
   },
   "outputs": [
    {
     "data": {
      "text/html": [
       "<div>\n",
       "<style scoped>\n",
       "    .dataframe tbody tr th:only-of-type {\n",
       "        vertical-align: middle;\n",
       "    }\n",
       "\n",
       "    .dataframe tbody tr th {\n",
       "        vertical-align: top;\n",
       "    }\n",
       "\n",
       "    .dataframe thead th {\n",
       "        text-align: right;\n",
       "    }\n",
       "</style>\n",
       "<table border=\"1\" class=\"dataframe\">\n",
       "  <thead>\n",
       "    <tr style=\"text-align: right;\">\n",
       "      <th></th>\n",
       "      <th>PassengerId</th>\n",
       "      <th>Pclass</th>\n",
       "      <th>Name</th>\n",
       "      <th>Sex</th>\n",
       "      <th>Age</th>\n",
       "      <th>SibSp</th>\n",
       "      <th>Parch</th>\n",
       "      <th>Ticket</th>\n",
       "      <th>Fare</th>\n",
       "      <th>Cabin</th>\n",
       "      <th>Embarked</th>\n",
       "    </tr>\n",
       "  </thead>\n",
       "  <tbody>\n",
       "    <tr>\n",
       "      <th>0</th>\n",
       "      <td>892</td>\n",
       "      <td>3</td>\n",
       "      <td>Kelly, Mr. James</td>\n",
       "      <td>male</td>\n",
       "      <td>34.5</td>\n",
       "      <td>0</td>\n",
       "      <td>0</td>\n",
       "      <td>330911</td>\n",
       "      <td>7.8292</td>\n",
       "      <td>NaN</td>\n",
       "      <td>Q</td>\n",
       "    </tr>\n",
       "    <tr>\n",
       "      <th>1</th>\n",
       "      <td>893</td>\n",
       "      <td>3</td>\n",
       "      <td>Wilkes, Mrs. James (Ellen Needs)</td>\n",
       "      <td>female</td>\n",
       "      <td>47.0</td>\n",
       "      <td>1</td>\n",
       "      <td>0</td>\n",
       "      <td>363272</td>\n",
       "      <td>7.0000</td>\n",
       "      <td>NaN</td>\n",
       "      <td>S</td>\n",
       "    </tr>\n",
       "    <tr>\n",
       "      <th>2</th>\n",
       "      <td>894</td>\n",
       "      <td>2</td>\n",
       "      <td>Myles, Mr. Thomas Francis</td>\n",
       "      <td>male</td>\n",
       "      <td>62.0</td>\n",
       "      <td>0</td>\n",
       "      <td>0</td>\n",
       "      <td>240276</td>\n",
       "      <td>9.6875</td>\n",
       "      <td>NaN</td>\n",
       "      <td>Q</td>\n",
       "    </tr>\n",
       "    <tr>\n",
       "      <th>3</th>\n",
       "      <td>895</td>\n",
       "      <td>3</td>\n",
       "      <td>Wirz, Mr. Albert</td>\n",
       "      <td>male</td>\n",
       "      <td>27.0</td>\n",
       "      <td>0</td>\n",
       "      <td>0</td>\n",
       "      <td>315154</td>\n",
       "      <td>8.6625</td>\n",
       "      <td>NaN</td>\n",
       "      <td>S</td>\n",
       "    </tr>\n",
       "    <tr>\n",
       "      <th>4</th>\n",
       "      <td>896</td>\n",
       "      <td>3</td>\n",
       "      <td>Hirvonen, Mrs. Alexander (Helga E Lindqvist)</td>\n",
       "      <td>female</td>\n",
       "      <td>22.0</td>\n",
       "      <td>1</td>\n",
       "      <td>1</td>\n",
       "      <td>3101298</td>\n",
       "      <td>12.2875</td>\n",
       "      <td>NaN</td>\n",
       "      <td>S</td>\n",
       "    </tr>\n",
       "  </tbody>\n",
       "</table>\n",
       "</div>"
      ],
      "text/plain": [
       "   PassengerId  Pclass                                          Name     Sex  \\\n",
       "0          892       3                              Kelly, Mr. James    male   \n",
       "1          893       3              Wilkes, Mrs. James (Ellen Needs)  female   \n",
       "2          894       2                     Myles, Mr. Thomas Francis    male   \n",
       "3          895       3                              Wirz, Mr. Albert    male   \n",
       "4          896       3  Hirvonen, Mrs. Alexander (Helga E Lindqvist)  female   \n",
       "\n",
       "    Age  SibSp  Parch   Ticket     Fare Cabin Embarked  \n",
       "0  34.5      0      0   330911   7.8292   NaN        Q  \n",
       "1  47.0      1      0   363272   7.0000   NaN        S  \n",
       "2  62.0      0      0   240276   9.6875   NaN        Q  \n",
       "3  27.0      0      0   315154   8.6625   NaN        S  \n",
       "4  22.0      1      1  3101298  12.2875   NaN        S  "
      ]
     },
     "execution_count": 3,
     "metadata": {},
     "output_type": "execute_result"
    }
   ],
   "source": [
    "test_data = pd.read_csv(\"/kaggle/input/titanic/test.csv\")\n",
    "test_data.head()"
   ]
  },
  {
   "cell_type": "code",
   "execution_count": 4,
   "metadata": {
    "execution": {
     "iopub.execute_input": "2020-09-10T03:14:17.186642Z",
     "iopub.status.busy": "2020-09-10T03:14:17.185866Z",
     "iopub.status.idle": "2020-09-10T03:14:17.188523Z",
     "shell.execute_reply": "2020-09-10T03:14:17.189040Z"
    },
    "papermill": {
     "duration": 0.033992,
     "end_time": "2020-09-10T03:14:17.189185",
     "exception": false,
     "start_time": "2020-09-10T03:14:17.155193",
     "status": "completed"
    },
    "tags": []
   },
   "outputs": [
    {
     "data": {
      "text/plain": [
       "PassengerId      0\n",
       "Survived         0\n",
       "Pclass           0\n",
       "Name             0\n",
       "Sex              0\n",
       "Age            177\n",
       "SibSp            0\n",
       "Parch            0\n",
       "Ticket           0\n",
       "Fare             0\n",
       "Cabin          687\n",
       "Embarked         2\n",
       "dtype: int64"
      ]
     },
     "execution_count": 4,
     "metadata": {},
     "output_type": "execute_result"
    }
   ],
   "source": [
    "train_data.isna().sum()"
   ]
  },
  {
   "cell_type": "code",
   "execution_count": 5,
   "metadata": {
    "execution": {
     "iopub.execute_input": "2020-09-10T03:14:17.238218Z",
     "iopub.status.busy": "2020-09-10T03:14:17.237517Z",
     "iopub.status.idle": "2020-09-10T03:14:17.241315Z",
     "shell.execute_reply": "2020-09-10T03:14:17.241814Z"
    },
    "papermill": {
     "duration": 0.030193,
     "end_time": "2020-09-10T03:14:17.241994",
     "exception": false,
     "start_time": "2020-09-10T03:14:17.211801",
     "status": "completed"
    },
    "tags": []
   },
   "outputs": [],
   "source": [
    "dfs = [train_data ,test_data]"
   ]
  },
  {
   "cell_type": "code",
   "execution_count": 6,
   "metadata": {
    "execution": {
     "iopub.execute_input": "2020-09-10T03:14:17.291821Z",
     "iopub.status.busy": "2020-09-10T03:14:17.291217Z",
     "iopub.status.idle": "2020-09-10T03:14:17.297499Z",
     "shell.execute_reply": "2020-09-10T03:14:17.296831Z"
    },
    "papermill": {
     "duration": 0.032376,
     "end_time": "2020-09-10T03:14:17.297605",
     "exception": false,
     "start_time": "2020-09-10T03:14:17.265229",
     "status": "completed"
    },
    "tags": []
   },
   "outputs": [],
   "source": [
    "for df in dfs:\n",
    "    df['Cabin'].fillna(0, inplace = True)"
   ]
  },
  {
   "cell_type": "code",
   "execution_count": 7,
   "metadata": {
    "execution": {
     "iopub.execute_input": "2020-09-10T03:14:17.349808Z",
     "iopub.status.busy": "2020-09-10T03:14:17.349187Z",
     "iopub.status.idle": "2020-09-10T03:14:17.351511Z",
     "shell.execute_reply": "2020-09-10T03:14:17.352018Z"
    },
    "papermill": {
     "duration": 0.031565,
     "end_time": "2020-09-10T03:14:17.352171",
     "exception": false,
     "start_time": "2020-09-10T03:14:17.320606",
     "status": "completed"
    },
    "tags": []
   },
   "outputs": [],
   "source": [
    "cabins = []\n",
    "for i in train_data['Cabin']:\n",
    "    cabins.append(str(i))"
   ]
  },
  {
   "cell_type": "code",
   "execution_count": 8,
   "metadata": {
    "execution": {
     "iopub.execute_input": "2020-09-10T03:14:17.404027Z",
     "iopub.status.busy": "2020-09-10T03:14:17.403366Z",
     "iopub.status.idle": "2020-09-10T03:14:17.405816Z",
     "shell.execute_reply": "2020-09-10T03:14:17.406315Z"
    },
    "papermill": {
     "duration": 0.031222,
     "end_time": "2020-09-10T03:14:17.406457",
     "exception": false,
     "start_time": "2020-09-10T03:14:17.375235",
     "status": "completed"
    },
    "tags": []
   },
   "outputs": [],
   "source": [
    "letters = []\n",
    "for i in cabins:\n",
    "    letter= i[0]\n",
    "    letters.append(letter)"
   ]
  },
  {
   "cell_type": "code",
   "execution_count": 9,
   "metadata": {
    "execution": {
     "iopub.execute_input": "2020-09-10T03:14:17.458826Z",
     "iopub.status.busy": "2020-09-10T03:14:17.458143Z",
     "iopub.status.idle": "2020-09-10T03:14:17.461557Z",
     "shell.execute_reply": "2020-09-10T03:14:17.461015Z"
    },
    "papermill": {
     "duration": 0.03192,
     "end_time": "2020-09-10T03:14:17.461686",
     "exception": false,
     "start_time": "2020-09-10T03:14:17.429766",
     "status": "completed"
    },
    "tags": []
   },
   "outputs": [],
   "source": [
    "train_data['Cabin'] = letters"
   ]
  },
  {
   "cell_type": "code",
   "execution_count": 10,
   "metadata": {
    "execution": {
     "iopub.execute_input": "2020-09-10T03:14:17.516244Z",
     "iopub.status.busy": "2020-09-10T03:14:17.515589Z",
     "iopub.status.idle": "2020-09-10T03:14:17.517747Z",
     "shell.execute_reply": "2020-09-10T03:14:17.518254Z"
    },
    "papermill": {
     "duration": 0.033113,
     "end_time": "2020-09-10T03:14:17.518391",
     "exception": false,
     "start_time": "2020-09-10T03:14:17.485278",
     "status": "completed"
    },
    "tags": []
   },
   "outputs": [],
   "source": [
    "cabins = []\n",
    "for i in test_data['Cabin']:\n",
    "    cabins.append(str(i))\n",
    "letters = []\n",
    "for i in cabins:\n",
    "    letter= i[0]\n",
    "    letters.append(letter)\n",
    "test_data['Cabin'] = letters"
   ]
  },
  {
   "cell_type": "code",
   "execution_count": 11,
   "metadata": {
    "execution": {
     "iopub.execute_input": "2020-09-10T03:14:17.570288Z",
     "iopub.status.busy": "2020-09-10T03:14:17.569660Z",
     "iopub.status.idle": "2020-09-10T03:14:17.577328Z",
     "shell.execute_reply": "2020-09-10T03:14:17.576648Z"
    },
    "papermill": {
     "duration": 0.03392,
     "end_time": "2020-09-10T03:14:17.577442",
     "exception": false,
     "start_time": "2020-09-10T03:14:17.543522",
     "status": "completed"
    },
    "tags": []
   },
   "outputs": [
    {
     "data": {
      "text/plain": [
       "0    0\n",
       "1    C\n",
       "2    0\n",
       "3    C\n",
       "4    0\n",
       "Name: Cabin, dtype: object"
      ]
     },
     "execution_count": 11,
     "metadata": {},
     "output_type": "execute_result"
    }
   ],
   "source": [
    "train_data['Cabin'].head()"
   ]
  },
  {
   "cell_type": "code",
   "execution_count": 12,
   "metadata": {
    "execution": {
     "iopub.execute_input": "2020-09-10T03:14:17.633706Z",
     "iopub.status.busy": "2020-09-10T03:14:17.632783Z",
     "iopub.status.idle": "2020-09-10T03:14:17.636452Z",
     "shell.execute_reply": "2020-09-10T03:14:17.636976Z"
    },
    "papermill": {
     "duration": 0.035587,
     "end_time": "2020-09-10T03:14:17.637121",
     "exception": false,
     "start_time": "2020-09-10T03:14:17.601534",
     "status": "completed"
    },
    "tags": []
   },
   "outputs": [
    {
     "data": {
      "text/plain": [
       "S    644\n",
       "C    168\n",
       "Q     77\n",
       "Name: Embarked, dtype: int64"
      ]
     },
     "execution_count": 12,
     "metadata": {},
     "output_type": "execute_result"
    }
   ],
   "source": [
    "train_data['Embarked'].value_counts()"
   ]
  },
  {
   "cell_type": "code",
   "execution_count": 13,
   "metadata": {
    "execution": {
     "iopub.execute_input": "2020-09-10T03:14:17.690716Z",
     "iopub.status.busy": "2020-09-10T03:14:17.689706Z",
     "iopub.status.idle": "2020-09-10T03:14:17.695059Z",
     "shell.execute_reply": "2020-09-10T03:14:17.695629Z"
    },
    "papermill": {
     "duration": 0.03374,
     "end_time": "2020-09-10T03:14:17.695774",
     "exception": false,
     "start_time": "2020-09-10T03:14:17.662034",
     "status": "completed"
    },
    "tags": []
   },
   "outputs": [],
   "source": [
    "for df in dfs:\n",
    "    df['Embarked'].fillna('S')"
   ]
  },
  {
   "cell_type": "code",
   "execution_count": 14,
   "metadata": {
    "execution": {
     "iopub.execute_input": "2020-09-10T03:14:17.752344Z",
     "iopub.status.busy": "2020-09-10T03:14:17.751662Z",
     "iopub.status.idle": "2020-09-10T03:14:17.786445Z",
     "shell.execute_reply": "2020-09-10T03:14:17.786966Z"
    },
    "papermill": {
     "duration": 0.066385,
     "end_time": "2020-09-10T03:14:17.787124",
     "exception": false,
     "start_time": "2020-09-10T03:14:17.720739",
     "status": "completed"
    },
    "tags": []
   },
   "outputs": [],
   "source": [
    "train_data['Family'] = train_data.apply(lambda x: x['SibSp'] + x['Parch'], axis = 1)\n",
    "test_data['Family'] = test_data.apply(lambda x: x['SibSp'] + x['Parch'], axis = 1)"
   ]
  },
  {
   "cell_type": "code",
   "execution_count": 15,
   "metadata": {
    "execution": {
     "iopub.execute_input": "2020-09-10T03:14:17.850299Z",
     "iopub.status.busy": "2020-09-10T03:14:17.849540Z",
     "iopub.status.idle": "2020-09-10T03:14:17.852547Z",
     "shell.execute_reply": "2020-09-10T03:14:17.853062Z"
    },
    "papermill": {
     "duration": 0.041167,
     "end_time": "2020-09-10T03:14:17.853212",
     "exception": false,
     "start_time": "2020-09-10T03:14:17.812045",
     "status": "completed"
    },
    "tags": []
   },
   "outputs": [],
   "source": [
    "train_data.drop(['SibSp', 'Parch', 'Name', 'Ticket'], axis = 1, inplace = True)\n",
    "test_data.drop(['SibSp', 'Parch', 'Name', 'Ticket'], axis = 1, inplace = True)"
   ]
  },
  {
   "cell_type": "code",
   "execution_count": 16,
   "metadata": {
    "execution": {
     "iopub.execute_input": "2020-09-10T03:14:17.907534Z",
     "iopub.status.busy": "2020-09-10T03:14:17.906833Z",
     "iopub.status.idle": "2020-09-10T03:14:17.914064Z",
     "shell.execute_reply": "2020-09-10T03:14:17.914560Z"
    },
    "papermill": {
     "duration": 0.035663,
     "end_time": "2020-09-10T03:14:17.914707",
     "exception": false,
     "start_time": "2020-09-10T03:14:17.879044",
     "status": "completed"
    },
    "tags": []
   },
   "outputs": [
    {
     "data": {
      "text/plain": [
       "PassengerId     0\n",
       "Pclass          0\n",
       "Sex             0\n",
       "Age            86\n",
       "Fare            1\n",
       "Cabin           0\n",
       "Embarked        0\n",
       "Family          0\n",
       "dtype: int64"
      ]
     },
     "execution_count": 16,
     "metadata": {},
     "output_type": "execute_result"
    }
   ],
   "source": [
    "test_data.isna().sum()"
   ]
  },
  {
   "cell_type": "code",
   "execution_count": 17,
   "metadata": {
    "execution": {
     "iopub.execute_input": "2020-09-10T03:14:17.969371Z",
     "iopub.status.busy": "2020-09-10T03:14:17.968718Z",
     "iopub.status.idle": "2020-09-10T03:14:17.974044Z",
     "shell.execute_reply": "2020-09-10T03:14:17.974559Z"
    },
    "papermill": {
     "duration": 0.034363,
     "end_time": "2020-09-10T03:14:17.974709",
     "exception": false,
     "start_time": "2020-09-10T03:14:17.940346",
     "status": "completed"
    },
    "tags": []
   },
   "outputs": [],
   "source": [
    "test_data['Fare'].fillna(test_data['Fare'].median(), inplace = True)"
   ]
  },
  {
   "cell_type": "code",
   "execution_count": 18,
   "metadata": {
    "execution": {
     "iopub.execute_input": "2020-09-10T03:14:18.030875Z",
     "iopub.status.busy": "2020-09-10T03:14:18.029886Z",
     "iopub.status.idle": "2020-09-10T03:14:18.035526Z",
     "shell.execute_reply": "2020-09-10T03:14:18.036086Z"
    },
    "papermill": {
     "duration": 0.035531,
     "end_time": "2020-09-10T03:14:18.036231",
     "exception": false,
     "start_time": "2020-09-10T03:14:18.000700",
     "status": "completed"
    },
    "tags": []
   },
   "outputs": [],
   "source": [
    "for df in dfs:\n",
    "    df['Age'].fillna(df['Age'].median(), inplace = True)"
   ]
  },
  {
   "cell_type": "code",
   "execution_count": 19,
   "metadata": {
    "execution": {
     "iopub.execute_input": "2020-09-10T03:14:18.091869Z",
     "iopub.status.busy": "2020-09-10T03:14:18.090904Z",
     "iopub.status.idle": "2020-09-10T03:14:18.111420Z",
     "shell.execute_reply": "2020-09-10T03:14:18.111905Z"
    },
    "papermill": {
     "duration": 0.049764,
     "end_time": "2020-09-10T03:14:18.112081",
     "exception": false,
     "start_time": "2020-09-10T03:14:18.062317",
     "status": "completed"
    },
    "tags": []
   },
   "outputs": [],
   "source": [
    "train_df = pd.get_dummies(train_data)\n",
    "test_df = pd.get_dummies(test_data)"
   ]
  },
  {
   "cell_type": "code",
   "execution_count": 20,
   "metadata": {
    "execution": {
     "iopub.execute_input": "2020-09-10T03:14:18.168002Z",
     "iopub.status.busy": "2020-09-10T03:14:18.167004Z",
     "iopub.status.idle": "2020-09-10T03:14:18.173092Z",
     "shell.execute_reply": "2020-09-10T03:14:18.173606Z"
    },
    "papermill": {
     "duration": 0.035602,
     "end_time": "2020-09-10T03:14:18.173745",
     "exception": false,
     "start_time": "2020-09-10T03:14:18.138143",
     "status": "completed"
    },
    "tags": []
   },
   "outputs": [],
   "source": [
    "train_df.drop('PassengerId', axis = 1, inplace = True)"
   ]
  },
  {
   "cell_type": "code",
   "execution_count": 21,
   "metadata": {
    "execution": {
     "iopub.execute_input": "2020-09-10T03:14:18.230121Z",
     "iopub.status.busy": "2020-09-10T03:14:18.229106Z",
     "iopub.status.idle": "2020-09-10T03:14:18.237776Z",
     "shell.execute_reply": "2020-09-10T03:14:18.238253Z"
    },
    "papermill": {
     "duration": 0.038758,
     "end_time": "2020-09-10T03:14:18.238405",
     "exception": false,
     "start_time": "2020-09-10T03:14:18.199647",
     "status": "completed"
    },
    "tags": []
   },
   "outputs": [],
   "source": [
    "y = train_df[\"Survived\"]\n",
    "train_df.drop('Survived', axis = 1, inplace = True)\n",
    "train_df.drop('Cabin_T', axis = 1, inplace = True)\n",
    "test_df.drop('PassengerId', axis = 1, inplace = True)"
   ]
  },
  {
   "cell_type": "code",
   "execution_count": 22,
   "metadata": {
    "execution": {
     "iopub.execute_input": "2020-09-10T03:14:18.294139Z",
     "iopub.status.busy": "2020-09-10T03:14:18.293169Z",
     "iopub.status.idle": "2020-09-10T03:14:19.467078Z",
     "shell.execute_reply": "2020-09-10T03:14:19.467596Z"
    },
    "papermill": {
     "duration": 1.203112,
     "end_time": "2020-09-10T03:14:19.467760",
     "exception": false,
     "start_time": "2020-09-10T03:14:18.264648",
     "status": "completed"
    },
    "tags": []
   },
   "outputs": [],
   "source": [
    "from sklearn.ensemble import RandomForestClassifier\n",
    "from sklearn.model_selection import GridSearchCV\n",
    "X_test = test_df\n",
    "X_train = train_df"
   ]
  },
  {
   "cell_type": "code",
   "execution_count": 23,
   "metadata": {
    "execution": {
     "iopub.execute_input": "2020-09-10T03:14:19.526852Z",
     "iopub.status.busy": "2020-09-10T03:14:19.525775Z",
     "iopub.status.idle": "2020-09-10T03:14:19.529849Z",
     "shell.execute_reply": "2020-09-10T03:14:19.530386Z"
    },
    "papermill": {
     "duration": 0.03455,
     "end_time": "2020-09-10T03:14:19.530544",
     "exception": false,
     "start_time": "2020-09-10T03:14:19.495994",
     "status": "completed"
    },
    "tags": []
   },
   "outputs": [],
   "source": [
    "rfc = RandomForestClassifier()"
   ]
  },
  {
   "cell_type": "code",
   "execution_count": 24,
   "metadata": {
    "execution": {
     "iopub.execute_input": "2020-09-10T03:14:19.587156Z",
     "iopub.status.busy": "2020-09-10T03:14:19.586538Z",
     "iopub.status.idle": "2020-09-10T03:14:19.591121Z",
     "shell.execute_reply": "2020-09-10T03:14:19.591628Z"
    },
    "papermill": {
     "duration": 0.034667,
     "end_time": "2020-09-10T03:14:19.591767",
     "exception": false,
     "start_time": "2020-09-10T03:14:19.557100",
     "status": "completed"
    },
    "tags": []
   },
   "outputs": [],
   "source": [
    "param_grid = {\n",
    "    'n_estimators': [200, 500, 1000],\n",
    "    'max_features': ['auto'],\n",
    "    'max_depth': [6, 7, 8],\n",
    "    'criterion': ['entropy']\n",
    "}"
   ]
  },
  {
   "cell_type": "code",
   "execution_count": 25,
   "metadata": {
    "execution": {
     "iopub.execute_input": "2020-09-10T03:14:19.648016Z",
     "iopub.status.busy": "2020-09-10T03:14:19.647409Z",
     "iopub.status.idle": "2020-09-10T03:15:21.276155Z",
     "shell.execute_reply": "2020-09-10T03:15:21.276655Z"
    },
    "papermill": {
     "duration": 61.658255,
     "end_time": "2020-09-10T03:15:21.276797",
     "exception": false,
     "start_time": "2020-09-10T03:14:19.618542",
     "status": "completed"
    },
    "tags": []
   },
   "outputs": [
    {
     "data": {
      "text/plain": [
       "RandomForestClassifier(criterion='entropy', max_depth=8, n_estimators=1000)"
      ]
     },
     "execution_count": 25,
     "metadata": {},
     "output_type": "execute_result"
    }
   ],
   "source": [
    "CV = GridSearchCV(estimator = rfc, param_grid = param_grid, cv = 5)\n",
    "CV.fit(X_train, y)\n",
    "CV.best_estimator_"
   ]
  },
  {
   "cell_type": "code",
   "execution_count": 26,
   "metadata": {
    "execution": {
     "iopub.execute_input": "2020-09-10T03:15:21.335308Z",
     "iopub.status.busy": "2020-09-10T03:15:21.334266Z",
     "iopub.status.idle": "2020-09-10T03:15:23.188350Z",
     "shell.execute_reply": "2020-09-10T03:15:23.187639Z"
    },
    "papermill": {
     "duration": 1.88405,
     "end_time": "2020-09-10T03:15:23.188464",
     "exception": false,
     "start_time": "2020-09-10T03:15:21.304414",
     "status": "completed"
    },
    "tags": []
   },
   "outputs": [
    {
     "data": {
      "text/plain": [
       "RandomForestClassifier(criterion='entropy', max_depth=8, n_estimators=800)"
      ]
     },
     "execution_count": 26,
     "metadata": {},
     "output_type": "execute_result"
    }
   ],
   "source": [
    "rfc = RandomForestClassifier(criterion = 'entropy', max_depth = 8, n_estimators = 800)\n",
    "rfc.fit(X_train, y)"
   ]
  },
  {
   "cell_type": "code",
   "execution_count": 27,
   "metadata": {
    "execution": {
     "iopub.execute_input": "2020-09-10T03:15:23.252134Z",
     "iopub.status.busy": "2020-09-10T03:15:23.251056Z",
     "iopub.status.idle": "2020-09-10T03:15:23.362777Z",
     "shell.execute_reply": "2020-09-10T03:15:23.362240Z"
    },
    "papermill": {
     "duration": 0.147017,
     "end_time": "2020-09-10T03:15:23.362885",
     "exception": false,
     "start_time": "2020-09-10T03:15:23.215868",
     "status": "completed"
    },
    "tags": []
   },
   "outputs": [
    {
     "data": {
      "text/plain": [
       "array([0, 0, 0, 0, 1, 0, 0, 0, 1, 0, 0, 0, 1, 0, 1, 1, 0, 0, 0, 1, 0, 0,\n",
       "       1, 0, 1, 0, 1, 0, 0, 0, 0, 0, 1, 0, 0, 0, 0, 0, 0, 0, 0, 1, 0, 1,\n",
       "       1, 0, 0, 0, 1, 1, 0, 0, 1, 1, 0, 0, 0, 0, 0, 1, 0, 0, 0, 1, 1, 1,\n",
       "       1, 0, 0, 1, 1, 0, 0, 1, 1, 0, 0, 1, 0, 1, 1, 0, 0, 0, 0, 0, 1, 0,\n",
       "       1, 1, 1, 0, 1, 0, 0, 0, 1, 0, 0, 0, 1, 0, 0, 0, 1, 0, 0, 0, 0, 0,\n",
       "       0, 1, 1, 1, 1, 0, 0, 1, 0, 1, 1, 0, 1, 0, 0, 1, 0, 1, 0, 0, 0, 0,\n",
       "       0, 0, 0, 0, 0, 0, 0, 0, 0, 1, 0, 0, 0, 0, 1, 0, 0, 0, 1, 0, 0, 1,\n",
       "       0, 0, 1, 1, 0, 1, 1, 1, 1, 0, 0, 1, 0, 0, 1, 0, 0, 0, 0, 0, 0, 1,\n",
       "       1, 0, 1, 1, 0, 1, 1, 0, 1, 0, 1, 0, 0, 0, 0, 0, 0, 0, 1, 0, 1, 1,\n",
       "       0, 0, 1, 1, 0, 1, 0, 0, 0, 0, 1, 0, 0, 0, 0, 1, 0, 0, 1, 0, 1, 0,\n",
       "       1, 0, 1, 0, 1, 0, 0, 1, 0, 0, 0, 1, 0, 0, 0, 0, 0, 0, 1, 1, 1, 1,\n",
       "       0, 0, 0, 0, 1, 0, 1, 0, 1, 0, 0, 0, 0, 0, 0, 0, 1, 0, 0, 0, 1, 1,\n",
       "       0, 0, 0, 0, 0, 0, 0, 0, 1, 1, 0, 1, 0, 0, 0, 0, 0, 1, 1, 1, 1, 0,\n",
       "       0, 0, 0, 0, 0, 0, 0, 0, 0, 0, 1, 0, 0, 0, 0, 0, 0, 0, 1, 1, 0, 1,\n",
       "       0, 0, 0, 0, 0, 0, 1, 1, 0, 0, 0, 0, 0, 0, 0, 0, 1, 0, 1, 0, 0, 0,\n",
       "       1, 0, 0, 1, 0, 0, 0, 0, 0, 0, 0, 0, 0, 1, 0, 1, 0, 1, 0, 1, 1, 0,\n",
       "       0, 0, 1, 0, 1, 0, 0, 1, 0, 1, 1, 0, 1, 0, 0, 0, 1, 0, 0, 1, 0, 0,\n",
       "       1, 1, 0, 0, 0, 0, 0, 0, 1, 1, 0, 1, 0, 0, 0, 0, 0, 1, 0, 0, 0, 1,\n",
       "       0, 1, 0, 0, 1, 0, 1, 0, 1, 0, 0, 0, 1, 1, 1, 1, 0, 0, 1, 0, 0, 0])"
      ]
     },
     "execution_count": 27,
     "metadata": {},
     "output_type": "execute_result"
    }
   ],
   "source": [
    "y_pred = rfc.predict(X_test)\n",
    "y_pred"
   ]
  },
  {
   "cell_type": "code",
   "execution_count": 28,
   "metadata": {
    "execution": {
     "iopub.execute_input": "2020-09-10T03:15:23.423353Z",
     "iopub.status.busy": "2020-09-10T03:15:23.422729Z",
     "iopub.status.idle": "2020-09-10T03:15:23.425548Z",
     "shell.execute_reply": "2020-09-10T03:15:23.426145Z"
    },
    "papermill": {
     "duration": 0.035086,
     "end_time": "2020-09-10T03:15:23.426280",
     "exception": false,
     "start_time": "2020-09-10T03:15:23.391194",
     "status": "completed"
    },
    "tags": []
   },
   "outputs": [],
   "source": [
    "submission = y_pred.reshape(-1, 1)"
   ]
  },
  {
   "cell_type": "code",
   "execution_count": 29,
   "metadata": {
    "execution": {
     "iopub.execute_input": "2020-09-10T03:15:23.486702Z",
     "iopub.status.busy": "2020-09-10T03:15:23.486072Z",
     "iopub.status.idle": "2020-09-10T03:15:23.489174Z",
     "shell.execute_reply": "2020-09-10T03:15:23.488509Z"
    },
    "papermill": {
     "duration": 0.03518,
     "end_time": "2020-09-10T03:15:23.489286",
     "exception": false,
     "start_time": "2020-09-10T03:15:23.454106",
     "status": "completed"
    },
    "tags": []
   },
   "outputs": [],
   "source": [
    "sub_df = pd.DataFrame(submission)"
   ]
  },
  {
   "cell_type": "code",
   "execution_count": 30,
   "metadata": {
    "execution": {
     "iopub.execute_input": "2020-09-10T03:15:23.549438Z",
     "iopub.status.busy": "2020-09-10T03:15:23.548746Z",
     "iopub.status.idle": "2020-09-10T03:15:23.563949Z",
     "shell.execute_reply": "2020-09-10T03:15:23.563376Z"
    },
    "papermill": {
     "duration": 0.04627,
     "end_time": "2020-09-10T03:15:23.564065",
     "exception": false,
     "start_time": "2020-09-10T03:15:23.517795",
     "status": "completed"
    },
    "tags": []
   },
   "outputs": [
    {
     "data": {
      "text/html": [
       "<div>\n",
       "<style scoped>\n",
       "    .dataframe tbody tr th:only-of-type {\n",
       "        vertical-align: middle;\n",
       "    }\n",
       "\n",
       "    .dataframe tbody tr th {\n",
       "        vertical-align: top;\n",
       "    }\n",
       "\n",
       "    .dataframe thead th {\n",
       "        text-align: right;\n",
       "    }\n",
       "</style>\n",
       "<table border=\"1\" class=\"dataframe\">\n",
       "  <thead>\n",
       "    <tr style=\"text-align: right;\">\n",
       "      <th></th>\n",
       "      <th>Survived</th>\n",
       "    </tr>\n",
       "    <tr>\n",
       "      <th>PassengerId</th>\n",
       "      <th></th>\n",
       "    </tr>\n",
       "  </thead>\n",
       "  <tbody>\n",
       "    <tr>\n",
       "      <th>892</th>\n",
       "      <td>0</td>\n",
       "    </tr>\n",
       "    <tr>\n",
       "      <th>893</th>\n",
       "      <td>0</td>\n",
       "    </tr>\n",
       "    <tr>\n",
       "      <th>894</th>\n",
       "      <td>0</td>\n",
       "    </tr>\n",
       "    <tr>\n",
       "      <th>895</th>\n",
       "      <td>0</td>\n",
       "    </tr>\n",
       "    <tr>\n",
       "      <th>896</th>\n",
       "      <td>1</td>\n",
       "    </tr>\n",
       "    <tr>\n",
       "      <th>897</th>\n",
       "      <td>0</td>\n",
       "    </tr>\n",
       "    <tr>\n",
       "      <th>898</th>\n",
       "      <td>0</td>\n",
       "    </tr>\n",
       "    <tr>\n",
       "      <th>899</th>\n",
       "      <td>0</td>\n",
       "    </tr>\n",
       "    <tr>\n",
       "      <th>900</th>\n",
       "      <td>1</td>\n",
       "    </tr>\n",
       "    <tr>\n",
       "      <th>901</th>\n",
       "      <td>0</td>\n",
       "    </tr>\n",
       "  </tbody>\n",
       "</table>\n",
       "</div>"
      ],
      "text/plain": [
       "             Survived\n",
       "PassengerId          \n",
       "892                 0\n",
       "893                 0\n",
       "894                 0\n",
       "895                 0\n",
       "896                 1\n",
       "897                 0\n",
       "898                 0\n",
       "899                 0\n",
       "900                 1\n",
       "901                 0"
      ]
     },
     "execution_count": 30,
     "metadata": {},
     "output_type": "execute_result"
    }
   ],
   "source": [
    "sub_df['PassengerId'] = test_data['PassengerId']\n",
    "sub_df['Survived'] = submission\n",
    "cols = ['PassengerId',\n",
    "       'Survived']\n",
    "sub_df.drop(0, axis = 1, inplace = True)\n",
    "sub_df.columns = [i for i in cols]\n",
    "sub_df = sub_df.set_index('PassengerId')\n",
    "sub_df.head(10)"
   ]
  },
  {
   "cell_type": "code",
   "execution_count": 31,
   "metadata": {
    "execution": {
     "iopub.execute_input": "2020-09-10T03:15:23.626538Z",
     "iopub.status.busy": "2020-09-10T03:15:23.625725Z",
     "iopub.status.idle": "2020-09-10T03:15:23.901520Z",
     "shell.execute_reply": "2020-09-10T03:15:23.900849Z"
    },
    "papermill": {
     "duration": 0.308891,
     "end_time": "2020-09-10T03:15:23.901642",
     "exception": false,
     "start_time": "2020-09-10T03:15:23.592751",
     "status": "completed"
    },
    "tags": []
   },
   "outputs": [],
   "source": [
    "sub_df.to_csv(r'submission.csv')"
   ]
  },
  {
   "cell_type": "code",
   "execution_count": null,
   "metadata": {
    "papermill": {
     "duration": 0.028405,
     "end_time": "2020-09-10T03:15:23.958441",
     "exception": false,
     "start_time": "2020-09-10T03:15:23.930036",
     "status": "completed"
    },
    "tags": []
   },
   "outputs": [],
   "source": []
  }
 ],
 "metadata": {
  "kernelspec": {
   "display_name": "Python 3",
   "language": "python",
   "name": "python3"
  },
  "language_info": {
   "codemirror_mode": {
    "name": "ipython",
    "version": 3
   },
   "file_extension": ".py",
   "mimetype": "text/x-python",
   "name": "python",
   "nbconvert_exporter": "python",
   "pygments_lexer": "ipython3",
   "version": "3.7.6"
  },
  "papermill": {
   "duration": 71.616171,
   "end_time": "2020-09-10T03:15:24.095801",
   "environment_variables": {},
   "exception": null,
   "input_path": "__notebook__.ipynb",
   "output_path": "__notebook__.ipynb",
   "parameters": {},
   "start_time": "2020-09-10T03:14:12.479630",
   "version": "2.1.0"
  }
 },
 "nbformat": 4,
 "nbformat_minor": 4
}
